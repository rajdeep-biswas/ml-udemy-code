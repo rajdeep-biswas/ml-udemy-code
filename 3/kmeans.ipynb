{
 "cells": [
  {
   "cell_type": "code",
   "execution_count": 2,
   "metadata": {},
   "outputs": [],
   "source": [
    "import pandas as pd"
   ]
  },
  {
   "cell_type": "code",
   "execution_count": 3,
   "metadata": {},
   "outputs": [],
   "source": [
    "dataset = pd.read_csv(\"Mall_Customers.csv\")[[\"Genre\", \"Age\", \"Annual Income (k$)\", \"Spending Score (1-100)\"]]"
   ]
  },
  {
   "cell_type": "code",
   "execution_count": 4,
   "metadata": {},
   "outputs": [
    {
     "data": {
      "text/html": [
       "<div>\n",
       "<style scoped>\n",
       "    .dataframe tbody tr th:only-of-type {\n",
       "        vertical-align: middle;\n",
       "    }\n",
       "\n",
       "    .dataframe tbody tr th {\n",
       "        vertical-align: top;\n",
       "    }\n",
       "\n",
       "    .dataframe thead th {\n",
       "        text-align: right;\n",
       "    }\n",
       "</style>\n",
       "<table border=\"1\" class=\"dataframe\">\n",
       "  <thead>\n",
       "    <tr style=\"text-align: right;\">\n",
       "      <th></th>\n",
       "      <th>Genre</th>\n",
       "      <th>Age</th>\n",
       "      <th>Annual Income (k$)</th>\n",
       "      <th>Spending Score (1-100)</th>\n",
       "    </tr>\n",
       "  </thead>\n",
       "  <tbody>\n",
       "    <tr>\n",
       "      <th>0</th>\n",
       "      <td>Male</td>\n",
       "      <td>19</td>\n",
       "      <td>15</td>\n",
       "      <td>39</td>\n",
       "    </tr>\n",
       "    <tr>\n",
       "      <th>1</th>\n",
       "      <td>Male</td>\n",
       "      <td>21</td>\n",
       "      <td>15</td>\n",
       "      <td>81</td>\n",
       "    </tr>\n",
       "    <tr>\n",
       "      <th>2</th>\n",
       "      <td>Female</td>\n",
       "      <td>20</td>\n",
       "      <td>16</td>\n",
       "      <td>6</td>\n",
       "    </tr>\n",
       "    <tr>\n",
       "      <th>3</th>\n",
       "      <td>Female</td>\n",
       "      <td>23</td>\n",
       "      <td>16</td>\n",
       "      <td>77</td>\n",
       "    </tr>\n",
       "    <tr>\n",
       "      <th>4</th>\n",
       "      <td>Female</td>\n",
       "      <td>31</td>\n",
       "      <td>17</td>\n",
       "      <td>40</td>\n",
       "    </tr>\n",
       "    <tr>\n",
       "      <th>...</th>\n",
       "      <td>...</td>\n",
       "      <td>...</td>\n",
       "      <td>...</td>\n",
       "      <td>...</td>\n",
       "    </tr>\n",
       "    <tr>\n",
       "      <th>195</th>\n",
       "      <td>Female</td>\n",
       "      <td>35</td>\n",
       "      <td>120</td>\n",
       "      <td>79</td>\n",
       "    </tr>\n",
       "    <tr>\n",
       "      <th>196</th>\n",
       "      <td>Female</td>\n",
       "      <td>45</td>\n",
       "      <td>126</td>\n",
       "      <td>28</td>\n",
       "    </tr>\n",
       "    <tr>\n",
       "      <th>197</th>\n",
       "      <td>Male</td>\n",
       "      <td>32</td>\n",
       "      <td>126</td>\n",
       "      <td>74</td>\n",
       "    </tr>\n",
       "    <tr>\n",
       "      <th>198</th>\n",
       "      <td>Male</td>\n",
       "      <td>32</td>\n",
       "      <td>137</td>\n",
       "      <td>18</td>\n",
       "    </tr>\n",
       "    <tr>\n",
       "      <th>199</th>\n",
       "      <td>Male</td>\n",
       "      <td>30</td>\n",
       "      <td>137</td>\n",
       "      <td>83</td>\n",
       "    </tr>\n",
       "  </tbody>\n",
       "</table>\n",
       "<p>200 rows × 4 columns</p>\n",
       "</div>"
      ],
      "text/plain": [
       "      Genre  Age  Annual Income (k$)  Spending Score (1-100)\n",
       "0      Male   19                  15                      39\n",
       "1      Male   21                  15                      81\n",
       "2    Female   20                  16                       6\n",
       "3    Female   23                  16                      77\n",
       "4    Female   31                  17                      40\n",
       "..      ...  ...                 ...                     ...\n",
       "195  Female   35                 120                      79\n",
       "196  Female   45                 126                      28\n",
       "197    Male   32                 126                      74\n",
       "198    Male   32                 137                      18\n",
       "199    Male   30                 137                      83\n",
       "\n",
       "[200 rows x 4 columns]"
      ]
     },
     "execution_count": 4,
     "metadata": {},
     "output_type": "execute_result"
    }
   ],
   "source": [
    "dataset"
   ]
  },
  {
   "cell_type": "code",
   "execution_count": 5,
   "metadata": {},
   "outputs": [],
   "source": [
    "from sklearn.preprocessing import LabelEncoder"
   ]
  },
  {
   "cell_type": "code",
   "execution_count": 6,
   "metadata": {},
   "outputs": [],
   "source": [
    "dataset[\"Genre\"] = LabelEncoder().fit_transform(dataset[\"Genre\"])"
   ]
  },
  {
   "cell_type": "code",
   "execution_count": 7,
   "metadata": {},
   "outputs": [],
   "source": [
    "from sklearn.cluster import KMeans"
   ]
  },
  {
   "cell_type": "code",
   "execution_count": 8,
   "metadata": {},
   "outputs": [],
   "source": [
    "inertias = []"
   ]
  },
  {
   "cell_type": "code",
   "execution_count": 9,
   "metadata": {},
   "outputs": [],
   "source": [
    "for i in range(1, (len(dataset) + 1) // 20):\n",
    "    kmeans = KMeans(n_clusters=i, init='k-means++').fit(dataset)\n",
    "    inertias.append(kmeans.inertia_)"
   ]
  },
  {
   "cell_type": "code",
   "execution_count": 10,
   "metadata": {},
   "outputs": [
    {
     "data": {
      "text/plain": [
       "array([8, 3, 4, 3, 8, 3, 4, 3, 4, 3, 4, 3, 4, 3, 4, 3, 8, 3, 4, 3, 8, 3,\n",
       "       4, 3, 4, 3, 8, 8, 8, 3, 4, 3, 4, 3, 4, 3, 4, 3, 8, 3, 0, 3, 8, 8,\n",
       "       4, 3, 0, 8, 8, 8, 0, 8, 8, 0, 0, 8, 0, 0, 5, 0, 0, 5, 0, 0, 0, 5,\n",
       "       0, 0, 5, 5, 0, 0, 0, 0, 0, 5, 0, 5, 5, 0, 0, 5, 0, 0, 5, 0, 0, 5,\n",
       "       5, 0, 0, 5, 0, 5, 5, 5, 0, 5, 0, 5, 5, 0, 0, 5, 0, 5, 0, 0, 0, 0,\n",
       "       0, 5, 5, 5, 5, 5, 0, 0, 0, 0, 5, 5, 5, 1, 5, 1, 2, 1, 2, 1, 2, 1,\n",
       "       5, 1, 2, 1, 2, 1, 2, 1, 2, 1, 5, 1, 2, 1, 2, 1, 2, 1, 2, 1, 2, 1,\n",
       "       2, 1, 2, 1, 2, 1, 2, 1, 2, 1, 2, 1, 2, 1, 2, 1, 2, 1, 2, 1, 2, 1,\n",
       "       2, 1, 2, 6, 7, 6, 7, 6, 7, 6, 7, 6, 7, 6, 7, 6, 7, 6, 7, 6, 7, 6,\n",
       "       7, 6])"
      ]
     },
     "execution_count": 10,
     "metadata": {},
     "output_type": "execute_result"
    }
   ],
   "source": [
    "kmeans.predict(dataset)"
   ]
  },
  {
   "cell_type": "code",
   "execution_count": 11,
   "metadata": {},
   "outputs": [
    {
     "data": {
      "text/plain": [
       "array([8, 3, 4, 3, 8, 3, 4, 3, 4, 3, 4, 3, 4, 3, 4, 3, 8, 3, 4, 3, 8, 3,\n",
       "       4, 3, 4, 3, 8, 8, 8, 3, 4, 3, 4, 3, 4, 3, 4, 3, 8, 3, 0, 3, 8, 8,\n",
       "       4, 3, 0, 8, 8, 8, 0, 8, 8, 0, 0, 8, 0, 0, 5, 0, 0, 5, 0, 0, 0, 5,\n",
       "       0, 0, 5, 5, 0, 0, 0, 0, 0, 5, 0, 5, 5, 0, 0, 5, 0, 0, 5, 0, 0, 5,\n",
       "       5, 0, 0, 5, 0, 5, 5, 5, 0, 5, 0, 5, 5, 0, 0, 5, 0, 5, 0, 0, 0, 0,\n",
       "       0, 5, 5, 5, 5, 5, 0, 0, 0, 0, 5, 5, 5, 1, 5, 1, 2, 1, 2, 1, 2, 1,\n",
       "       5, 1, 2, 1, 2, 1, 2, 1, 2, 1, 5, 1, 2, 1, 2, 1, 2, 1, 2, 1, 2, 1,\n",
       "       2, 1, 2, 1, 2, 1, 2, 1, 2, 1, 2, 1, 2, 1, 2, 1, 2, 1, 2, 1, 2, 1,\n",
       "       2, 1, 2, 6, 7, 6, 7, 6, 7, 6, 7, 6, 7, 6, 7, 6, 7, 6, 7, 6, 7, 6,\n",
       "       7, 6])"
      ]
     },
     "execution_count": 11,
     "metadata": {},
     "output_type": "execute_result"
    }
   ],
   "source": [
    "kmeans.labels_"
   ]
  },
  {
   "cell_type": "code",
   "execution_count": 12,
   "metadata": {},
   "outputs": [
    {
     "data": {
      "text/plain": [
       "array([[  0.41860465,  56.55813953,  53.95348837,  49.58139535],\n",
       "       [  0.46428571,  32.78571429,  78.03571429,  81.89285714],\n",
       "       [  0.68      ,  41.96      ,  79.64      ,  15.4       ],\n",
       "       [  0.38095238,  24.80952381,  25.61904762,  80.23809524],\n",
       "       [  0.42857143,  49.        ,  25.5       ,  12.28571429],\n",
       "       [  0.375     ,  26.375     ,  59.65625   ,  48.78125   ],\n",
       "       [  0.45454545,  32.45454545, 108.18181818,  82.72727273],\n",
       "       [  0.3       ,  41.        , 109.7       ,  22.        ],\n",
       "       [  0.375     ,  34.5625    ,  32.8125    ,  42.625     ]])"
      ]
     },
     "execution_count": 12,
     "metadata": {},
     "output_type": "execute_result"
    }
   ],
   "source": [
    "kmeans.cluster_centers_"
   ]
  },
  {
   "cell_type": "code",
   "execution_count": 13,
   "metadata": {},
   "outputs": [
    {
     "data": {
      "text/plain": [
       "[308862.06000000006,\n",
       " 212889.44245524294,\n",
       " 143391.59236035674,\n",
       " 104414.67534220174,\n",
       " 75399.61541401486,\n",
       " 58348.64136331505,\n",
       " 51132.70321257687,\n",
       " 44685.22240269233,\n",
       " 40874.69661154736]"
      ]
     },
     "execution_count": 13,
     "metadata": {},
     "output_type": "execute_result"
    }
   ],
   "source": [
    "inertias"
   ]
  },
  {
   "cell_type": "code",
   "execution_count": 14,
   "metadata": {},
   "outputs": [],
   "source": [
    "import matplotlib.pyplot as plt"
   ]
  },
  {
   "cell_type": "code",
   "execution_count": 15,
   "metadata": {},
   "outputs": [
    {
     "data": {
      "text/plain": [
       "[<matplotlib.lines.Line2D at 0x1a65bdba358>]"
      ]
     },
     "execution_count": 15,
     "metadata": {},
     "output_type": "execute_result"
    },
    {
     "data": {
      "image/png": "[encoded data removed]",
      "text/plain": [
       "<Figure size 432x288 with 1 Axes>"
      ]
     },
     "metadata": {
      "needs_background": "light"
     },
     "output_type": "display_data"
    }
   ],
   "source": [
    "# without k-means++\n",
    "\n",
    "plt.plot(list(range(1, len(inertias) + 1)), inertias)"
   ]
  },
  {
   "cell_type": "code",
   "execution_count": 16,
   "metadata": {},
   "outputs": [],
   "source": [
    "# to me it looks like 2 is the elbow point"
   ]
  },
  {
   "cell_type": "code",
   "execution_count": 17,
   "metadata": {},
   "outputs": [
    {
     "data": {
      "text/plain": [
       "[<matplotlib.lines.Line2D at 0x1a65beb1ba8>]"
      ]
     },
     "execution_count": 17,
     "metadata": {},
     "output_type": "execute_result"
    },
    {
     "data": {
      "image/png": "[encoded data removed]",
      "text/plain": [
       "<Figure size 432x288 with 1 Axes>"
      ]
     },
     "metadata": {
      "needs_background": "light"
     },
     "output_type": "display_data"
    }
   ],
   "source": [
    "# with k-means++\n",
    "\n",
    "plt.plot(range(1, len(inertias) + 1), inertias)"
   ]
  },
  {
   "cell_type": "code",
   "execution_count": 18,
   "metadata": {},
   "outputs": [],
   "source": [
    "# eh, doesn't look like it changed anything tho"
   ]
  },
  {
   "cell_type": "code",
   "execution_count": 19,
   "metadata": {},
   "outputs": [
    {
     "data": {
      "text/plain": [
       "[<matplotlib.lines.Line2D at 0x1a65bf04c50>]"
      ]
     },
     "execution_count": 19,
     "metadata": {},
     "output_type": "execute_result"
    },
    {
     "data": {
      "image/png": "[encoded data removed]",
      "text/plain": [
       "<Figure size 432x288 with 1 Axes>"
      ]
     },
     "metadata": {
      "needs_background": "light"
     },
     "output_type": "display_data"
    }
   ],
   "source": [
    "# having excluded first column (customer id or something)\n",
    "\n",
    "plt.plot(range(1, len(inertias) + 1), inertias)"
   ]
  },
  {
   "cell_type": "code",
   "execution_count": 20,
   "metadata": {},
   "outputs": [],
   "source": [
    "# okay makes a bit more sense now as to why pocahontas chose '5' clusters (wait for it)"
   ]
  },
  {
   "cell_type": "code",
   "execution_count": 21,
   "metadata": {},
   "outputs": [],
   "source": [
    "dataset2d = dataset[[\"Annual Income (k$)\", \"Spending Score (1-100)\"]]"
   ]
  },
  {
   "cell_type": "code",
   "execution_count": 22,
   "metadata": {},
   "outputs": [],
   "source": [
    "inertias2d = []\n",
    "\n",
    "for i in range(1, (len(dataset) + 1) // 20):\n",
    "    kmeans2d = KMeans(n_clusters=i, init='k-means++').fit(dataset2d)\n",
    "    inertias2d.append(kmeans2d.inertia_)"
   ]
  },
  {
   "cell_type": "code",
   "execution_count": 23,
   "metadata": {},
   "outputs": [
    {
     "data": {
      "text/plain": [
       "[<matplotlib.lines.Line2D at 0x1a65bf8eb00>]"
      ]
     },
     "execution_count": 23,
     "metadata": {},
     "output_type": "execute_result"
    },
    {
     "data": {
      "image/png": "[encoded data removed]",
      "text/plain": [
       "<Figure size 432x288 with 1 Axes>"
      ]
     },
     "metadata": {
      "needs_background": "light"
     },
     "output_type": "display_data"
    }
   ],
   "source": [
    "# hastag two dee\n",
    "\n",
    "plt.plot(range(1, len(inertias2d) + 1), inertias2d)"
   ]
  },
  {
   "cell_type": "code",
   "execution_count": 24,
   "metadata": {},
   "outputs": [],
   "source": [
    "# we have a strong elbow at 5 now, let's visualize it"
   ]
  },
  {
   "cell_type": "code",
   "execution_count": 25,
   "metadata": {},
   "outputs": [],
   "source": [
    "kmeans2d = KMeans(n_clusters=5, init='k-means++').fit(dataset2d)"
   ]
  },
  {
   "cell_type": "code",
   "execution_count": 26,
   "metadata": {},
   "outputs": [],
   "source": [
    "clusters = {}\n",
    "\n",
    "xname = \"Annual Income (k$)\"\n",
    "yname = \"Spending Score (1-100)\"\n",
    "\n",
    "for i in range(len(dataset2d)):\n",
    "    if kmeans2d.labels_[i] in clusters:\n",
    "        clusters[kmeans2d.labels_[i]][xname].append(dataset2d[[xname]].iloc[i][0])\n",
    "        clusters[kmeans2d.labels_[i]][yname].append(dataset2d[[yname]].iloc[i][0])\n",
    "    else:\n",
    "        clusters[kmeans2d.labels_[i]] = {xname: [dataset2d[[xname]].iloc[i][0]],\n",
    "                                         yname: [dataset2d[[yname]].iloc[i][0]]}"
   ]
  },
  {
   "cell_type": "code",
   "execution_count": 27,
   "metadata": {},
   "outputs": [
    {
     "data": {
      "image/png": "[encoded data removed]",
      "text/plain": [
       "<Figure size 432x288 with 1 Axes>"
      ]
     },
     "metadata": {
      "needs_background": "light"
     },
     "output_type": "display_data"
    }
   ],
   "source": [
    "for cluster in clusters:\n",
    "    plt.scatter(clusters[cluster][xname], clusters[cluster][yname])\n",
    "plt.show()"
   ]
  },
  {
   "cell_type": "code",
   "execution_count": 28,
   "metadata": {},
   "outputs": [
    {
     "data": {
      "text/plain": [
       "array([4, 1, 4, 1, 4, 1, 4, 1, 4, 1, 4, 1, 4, 1, 4, 1, 4, 1, 4, 1, 4, 1,\n",
       "       4, 1, 4, 1, 4, 1, 4, 1, 4, 1, 4, 1, 4, 1, 4, 1, 4, 1, 4, 1, 4, 0,\n",
       "       4, 1, 0, 0, 0, 0, 0, 0, 0, 0, 0, 0, 0, 0, 0, 0, 0, 0, 0, 0, 0, 0,\n",
       "       0, 0, 0, 0, 0, 0, 0, 0, 0, 0, 0, 0, 0, 0, 0, 0, 0, 0, 0, 0, 0, 0,\n",
       "       0, 0, 0, 0, 0, 0, 0, 0, 0, 0, 0, 0, 0, 0, 0, 0, 0, 0, 0, 0, 0, 0,\n",
       "       0, 0, 0, 0, 0, 0, 0, 0, 0, 0, 0, 0, 0, 3, 2, 3, 0, 3, 2, 3, 2, 3,\n",
       "       0, 3, 2, 3, 2, 3, 2, 3, 2, 3, 0, 3, 2, 3, 2, 3, 2, 3, 2, 3, 2, 3,\n",
       "       2, 3, 2, 3, 2, 3, 2, 3, 2, 3, 2, 3, 2, 3, 2, 3, 2, 3, 2, 3, 2, 3,\n",
       "       2, 3, 2, 3, 2, 3, 2, 3, 2, 3, 2, 3, 2, 3, 2, 3, 2, 3, 2, 3, 2, 3,\n",
       "       2, 3])"
      ]
     },
     "execution_count": 28,
     "metadata": {},
     "output_type": "execute_result"
    }
   ],
   "source": [
    "kmeans2d.labels_"
   ]
  },
  {
   "cell_type": "code",
   "execution_count": 29,
   "metadata": {
    "scrolled": true
   },
   "outputs": [
    {
     "data": {
      "text/plain": [
       "{4: {'Annual Income (k$)': [15,\n",
       "   16,\n",
       "   17,\n",
       "   18,\n",
       "   19,\n",
       "   19,\n",
       "   20,\n",
       "   20,\n",
       "   21,\n",
       "   23,\n",
       "   24,\n",
       "   25,\n",
       "   28,\n",
       "   28,\n",
       "   29,\n",
       "   30,\n",
       "   33,\n",
       "   33,\n",
       "   34,\n",
       "   37,\n",
       "   38,\n",
       "   39,\n",
       "   39],\n",
       "  'Spending Score (1-100)': [39,\n",
       "   6,\n",
       "   40,\n",
       "   6,\n",
       "   3,\n",
       "   14,\n",
       "   15,\n",
       "   13,\n",
       "   35,\n",
       "   29,\n",
       "   35,\n",
       "   5,\n",
       "   14,\n",
       "   32,\n",
       "   31,\n",
       "   4,\n",
       "   4,\n",
       "   14,\n",
       "   17,\n",
       "   26,\n",
       "   35,\n",
       "   36,\n",
       "   28]},\n",
       " 1: {'Annual Income (k$)': [15,\n",
       "   16,\n",
       "   17,\n",
       "   18,\n",
       "   19,\n",
       "   19,\n",
       "   20,\n",
       "   20,\n",
       "   21,\n",
       "   23,\n",
       "   24,\n",
       "   25,\n",
       "   28,\n",
       "   28,\n",
       "   29,\n",
       "   30,\n",
       "   33,\n",
       "   33,\n",
       "   34,\n",
       "   37,\n",
       "   38,\n",
       "   39],\n",
       "  'Spending Score (1-100)': [81,\n",
       "   77,\n",
       "   76,\n",
       "   94,\n",
       "   72,\n",
       "   99,\n",
       "   77,\n",
       "   79,\n",
       "   66,\n",
       "   98,\n",
       "   73,\n",
       "   73,\n",
       "   82,\n",
       "   61,\n",
       "   87,\n",
       "   73,\n",
       "   92,\n",
       "   81,\n",
       "   73,\n",
       "   75,\n",
       "   92,\n",
       "   65]},\n",
       " 0: {'Annual Income (k$)': [39,\n",
       "   40,\n",
       "   40,\n",
       "   40,\n",
       "   40,\n",
       "   42,\n",
       "   42,\n",
       "   43,\n",
       "   43,\n",
       "   43,\n",
       "   43,\n",
       "   44,\n",
       "   44,\n",
       "   46,\n",
       "   46,\n",
       "   46,\n",
       "   46,\n",
       "   47,\n",
       "   47,\n",
       "   48,\n",
       "   48,\n",
       "   48,\n",
       "   48,\n",
       "   48,\n",
       "   48,\n",
       "   49,\n",
       "   49,\n",
       "   50,\n",
       "   50,\n",
       "   54,\n",
       "   54,\n",
       "   54,\n",
       "   54,\n",
       "   54,\n",
       "   54,\n",
       "   54,\n",
       "   54,\n",
       "   54,\n",
       "   54,\n",
       "   54,\n",
       "   54,\n",
       "   57,\n",
       "   57,\n",
       "   58,\n",
       "   58,\n",
       "   59,\n",
       "   59,\n",
       "   60,\n",
       "   60,\n",
       "   60,\n",
       "   60,\n",
       "   60,\n",
       "   60,\n",
       "   61,\n",
       "   61,\n",
       "   62,\n",
       "   62,\n",
       "   62,\n",
       "   62,\n",
       "   62,\n",
       "   62,\n",
       "   63,\n",
       "   63,\n",
       "   63,\n",
       "   63,\n",
       "   63,\n",
       "   63,\n",
       "   64,\n",
       "   64,\n",
       "   65,\n",
       "   65,\n",
       "   65,\n",
       "   65,\n",
       "   67,\n",
       "   67,\n",
       "   67,\n",
       "   67,\n",
       "   69,\n",
       "   71,\n",
       "   72,\n",
       "   76],\n",
       "  'Spending Score (1-100)': [61,\n",
       "   55,\n",
       "   47,\n",
       "   42,\n",
       "   42,\n",
       "   52,\n",
       "   60,\n",
       "   54,\n",
       "   60,\n",
       "   45,\n",
       "   41,\n",
       "   50,\n",
       "   46,\n",
       "   51,\n",
       "   46,\n",
       "   56,\n",
       "   55,\n",
       "   52,\n",
       "   59,\n",
       "   51,\n",
       "   59,\n",
       "   50,\n",
       "   48,\n",
       "   59,\n",
       "   47,\n",
       "   55,\n",
       "   42,\n",
       "   49,\n",
       "   56,\n",
       "   47,\n",
       "   54,\n",
       "   53,\n",
       "   48,\n",
       "   52,\n",
       "   42,\n",
       "   51,\n",
       "   55,\n",
       "   41,\n",
       "   44,\n",
       "   57,\n",
       "   46,\n",
       "   58,\n",
       "   55,\n",
       "   60,\n",
       "   46,\n",
       "   55,\n",
       "   41,\n",
       "   49,\n",
       "   40,\n",
       "   42,\n",
       "   52,\n",
       "   47,\n",
       "   50,\n",
       "   42,\n",
       "   49,\n",
       "   41,\n",
       "   48,\n",
       "   59,\n",
       "   55,\n",
       "   56,\n",
       "   42,\n",
       "   50,\n",
       "   46,\n",
       "   43,\n",
       "   48,\n",
       "   52,\n",
       "   54,\n",
       "   42,\n",
       "   46,\n",
       "   48,\n",
       "   50,\n",
       "   43,\n",
       "   59,\n",
       "   43,\n",
       "   57,\n",
       "   56,\n",
       "   40,\n",
       "   58,\n",
       "   35,\n",
       "   34,\n",
       "   40]},\n",
       " 3: {'Annual Income (k$)': [69,\n",
       "   70,\n",
       "   71,\n",
       "   71,\n",
       "   71,\n",
       "   72,\n",
       "   73,\n",
       "   73,\n",
       "   74,\n",
       "   75,\n",
       "   76,\n",
       "   77,\n",
       "   77,\n",
       "   78,\n",
       "   78,\n",
       "   78,\n",
       "   78,\n",
       "   78,\n",
       "   78,\n",
       "   79,\n",
       "   81,\n",
       "   85,\n",
       "   86,\n",
       "   87,\n",
       "   87,\n",
       "   87,\n",
       "   88,\n",
       "   88,\n",
       "   93,\n",
       "   97,\n",
       "   98,\n",
       "   99,\n",
       "   101,\n",
       "   103,\n",
       "   103,\n",
       "   113,\n",
       "   120,\n",
       "   126,\n",
       "   137],\n",
       "  'Spending Score (1-100)': [91,\n",
       "   77,\n",
       "   95,\n",
       "   75,\n",
       "   75,\n",
       "   71,\n",
       "   88,\n",
       "   73,\n",
       "   72,\n",
       "   93,\n",
       "   87,\n",
       "   97,\n",
       "   74,\n",
       "   90,\n",
       "   88,\n",
       "   76,\n",
       "   89,\n",
       "   78,\n",
       "   73,\n",
       "   83,\n",
       "   93,\n",
       "   75,\n",
       "   95,\n",
       "   63,\n",
       "   75,\n",
       "   92,\n",
       "   86,\n",
       "   69,\n",
       "   90,\n",
       "   86,\n",
       "   88,\n",
       "   97,\n",
       "   68,\n",
       "   85,\n",
       "   69,\n",
       "   91,\n",
       "   79,\n",
       "   74,\n",
       "   83]},\n",
       " 2: {'Annual Income (k$)': [70,\n",
       "   71,\n",
       "   71,\n",
       "   73,\n",
       "   73,\n",
       "   74,\n",
       "   75,\n",
       "   77,\n",
       "   77,\n",
       "   78,\n",
       "   78,\n",
       "   78,\n",
       "   78,\n",
       "   78,\n",
       "   78,\n",
       "   79,\n",
       "   81,\n",
       "   85,\n",
       "   86,\n",
       "   87,\n",
       "   87,\n",
       "   87,\n",
       "   88,\n",
       "   88,\n",
       "   93,\n",
       "   97,\n",
       "   98,\n",
       "   99,\n",
       "   101,\n",
       "   103,\n",
       "   103,\n",
       "   113,\n",
       "   120,\n",
       "   126,\n",
       "   137],\n",
       "  'Spending Score (1-100)': [29,\n",
       "   11,\n",
       "   9,\n",
       "   5,\n",
       "   7,\n",
       "   10,\n",
       "   5,\n",
       "   12,\n",
       "   36,\n",
       "   22,\n",
       "   17,\n",
       "   20,\n",
       "   16,\n",
       "   1,\n",
       "   1,\n",
       "   35,\n",
       "   5,\n",
       "   26,\n",
       "   20,\n",
       "   27,\n",
       "   13,\n",
       "   10,\n",
       "   13,\n",
       "   15,\n",
       "   14,\n",
       "   32,\n",
       "   15,\n",
       "   39,\n",
       "   24,\n",
       "   17,\n",
       "   23,\n",
       "   8,\n",
       "   16,\n",
       "   28,\n",
       "   18]}}"
      ]
     },
     "execution_count": 29,
     "metadata": {},
     "output_type": "execute_result"
    }
   ],
   "source": [
    "clusters"
   ]
  },
  {
   "cell_type": "code",
   "execution_count": 30,
   "metadata": {},
   "outputs": [
    {
     "data": {
      "text/html": [
       "<div>\n",
       "<style scoped>\n",
       "    .dataframe tbody tr th:only-of-type {\n",
       "        vertical-align: middle;\n",
       "    }\n",
       "\n",
       "    .dataframe tbody tr th {\n",
       "        vertical-align: top;\n",
       "    }\n",
       "\n",
       "    .dataframe thead th {\n",
       "        text-align: right;\n",
       "    }\n",
       "</style>\n",
       "<table border=\"1\" class=\"dataframe\">\n",
       "  <thead>\n",
       "    <tr style=\"text-align: right;\">\n",
       "      <th></th>\n",
       "      <th>Annual Income (k$)</th>\n",
       "      <th>Spending Score (1-100)</th>\n",
       "    </tr>\n",
       "  </thead>\n",
       "  <tbody>\n",
       "    <tr>\n",
       "      <th>0</th>\n",
       "      <td>15</td>\n",
       "      <td>39</td>\n",
       "    </tr>\n",
       "    <tr>\n",
       "      <th>1</th>\n",
       "      <td>15</td>\n",
       "      <td>81</td>\n",
       "    </tr>\n",
       "    <tr>\n",
       "      <th>2</th>\n",
       "      <td>16</td>\n",
       "      <td>6</td>\n",
       "    </tr>\n",
       "    <tr>\n",
       "      <th>3</th>\n",
       "      <td>16</td>\n",
       "      <td>77</td>\n",
       "    </tr>\n",
       "    <tr>\n",
       "      <th>4</th>\n",
       "      <td>17</td>\n",
       "      <td>40</td>\n",
       "    </tr>\n",
       "    <tr>\n",
       "      <th>...</th>\n",
       "      <td>...</td>\n",
       "      <td>...</td>\n",
       "    </tr>\n",
       "    <tr>\n",
       "      <th>195</th>\n",
       "      <td>120</td>\n",
       "      <td>79</td>\n",
       "    </tr>\n",
       "    <tr>\n",
       "      <th>196</th>\n",
       "      <td>126</td>\n",
       "      <td>28</td>\n",
       "    </tr>\n",
       "    <tr>\n",
       "      <th>197</th>\n",
       "      <td>126</td>\n",
       "      <td>74</td>\n",
       "    </tr>\n",
       "    <tr>\n",
       "      <th>198</th>\n",
       "      <td>137</td>\n",
       "      <td>18</td>\n",
       "    </tr>\n",
       "    <tr>\n",
       "      <th>199</th>\n",
       "      <td>137</td>\n",
       "      <td>83</td>\n",
       "    </tr>\n",
       "  </tbody>\n",
       "</table>\n",
       "<p>200 rows × 2 columns</p>\n",
       "</div>"
      ],
      "text/plain": [
       "     Annual Income (k$)  Spending Score (1-100)\n",
       "0                    15                      39\n",
       "1                    15                      81\n",
       "2                    16                       6\n",
       "3                    16                      77\n",
       "4                    17                      40\n",
       "..                  ...                     ...\n",
       "195                 120                      79\n",
       "196                 126                      28\n",
       "197                 126                      74\n",
       "198                 137                      18\n",
       "199                 137                      83\n",
       "\n",
       "[200 rows x 2 columns]"
      ]
     },
     "execution_count": 30,
     "metadata": {},
     "output_type": "execute_result"
    }
   ],
   "source": [
    "dataset2d"
   ]
  },
  {
   "cell_type": "code",
   "execution_count": null,
   "metadata": {},
   "outputs": [],
   "source": []
  }
 ],
 "metadata": {
  "kernelspec": {
   "display_name": "Python 3",
   "language": "python",
   "name": "python3"
  },
  "language_info": {
   "codemirror_mode": {
    "name": "ipython",
    "version": 3
   },
   "file_extension": ".py",
   "mimetype": "text/x-python",
   "name": "python",
   "nbconvert_exporter": "python",
   "pygments_lexer": "ipython3",
   "version": "3.7.0"
  }
 },
 "nbformat": 4,
 "nbformat_minor": 2
}
